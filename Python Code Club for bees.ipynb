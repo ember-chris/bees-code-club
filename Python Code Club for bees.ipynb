{
 "cells": [
  {
   "cell_type": "markdown",
   "metadata": {},
   "source": [
    "# Welcome to Python Code Club!"
   ]
  },
  {
   "cell_type": "markdown",
   "metadata": {},
   "source": [
    "Welcome to this Python workshop based on The World Bee Project. This workshop is designed to take you through the basics of Python before progressing onto slightly more challenging topics!\n",
    "\n",
    "Throughout this workshop, we will be referencing work done by Oracle and The World Bee Project; this will help give context to some of the challenges you will face.\n",
    "\n",
    "First, some basics about this application, Jupyter Notebook.\n",
    "\n",
    "Run this cell below by clicking into it, holding down the Ctrl key and pressing Enter..\n"
   ]
  },
  {
   "cell_type": "code",
   "execution_count": null,
   "metadata": {
    "scrolled": true
   },
   "outputs": [],
   "source": [
    "from IPython.display import Image, HTML, display\n",
    "display(HTML(\"<table><tr><td width='30%'><img src='http://cdn.simplesite.com/i/37/ca/284571208784857655/i284571214478526369._szw480h1280_.jpg' width='80%'></td><td><img src='https://www.worldbeeday.org/images/galleries/sites/project/03/iva.jpg'></td><td><img src='https://upload.wikimedia.org/wikipedia/commons/thumb/c/c3/Python-logo-notext.svg/1024px-Python-logo-notext.svg.png'></td></tr></table>\"))"
   ]
  },
  {
   "cell_type": "markdown",
   "metadata": {},
   "source": [
    "The first picture shows smart bee hives, why do you think they are smart?"
   ]
  },
  {
   "cell_type": "markdown",
   "metadata": {},
   "source": [
    "# 📐 Section 1 - The Basics\n",
    "\n",
    "In this section, you will be taught the following:\n",
    "    - Print statements\n",
    "    - Commenting your code\n",
    "    \n",
    "To start with, lets take a look at some basic code below, remember, to run the code press Ctrl and Enter"
   ]
  },
  {
   "cell_type": "code",
   "execution_count": null,
   "metadata": {},
   "outputs": [],
   "source": [
    "# This is a comment! This is not code\n",
    "# Comments are useful to label what code does\n",
    "\n",
    "# this is my first program\n",
    "print(\"Hello, world!\")\n",
    "print(\"\\n\")\n",
    "print(\"Did you know that the typical bee beats its wings at over 230 beats per second?\")\n",
    "print(\"A bee will typically reach a top speed of 17 mph when flying to a food source, and 11 mph when ladened down by pollen.\")"
   ]
  },
  {
   "cell_type": "markdown",
   "metadata": {},
   "source": [
    "What do you notice about the output? Compare it to the origional source code. What can you see is missing?\n",
    "\n",
    "## 🙋 Challenge 1\n",
    "\n",
    "In the cell provided below, write print statements in Python so that the following sentences are printed back onto the screen:\n",
    "\n",
    "1. Bee's wings beat at over 230 beats per second.\n",
    "\n",
    "2. A bee's typical top speed is 17 mph.\n"
   ]
  },
  {
   "cell_type": "code",
   "execution_count": null,
   "metadata": {},
   "outputs": [],
   "source": [
    "# Insert your answer here"
   ]
  },
  {
   "cell_type": "markdown",
   "metadata": {},
   "source": [
    "# 📐 Section 2\n",
    "\n",
    "In this section we will be covering the following:\n",
    "    - Addition\n",
    "    - Storing numbers in variables\n",
    "    \n",
    "First lets take a look at how we add numbers within Python:\n"
   ]
  },
  {
   "cell_type": "code",
   "execution_count": null,
   "metadata": {},
   "outputs": [],
   "source": [
    "print(4+4)"
   ]
  },
  {
   "cell_type": "markdown",
   "metadata": {},
   "source": [
    "Notice how, instead of adding quote marks (\" \") within the print function, we simply wrote the numbers we wanted to add together?\n",
    "\n",
    "Now lets take a look at variables:"
   ]
  },
  {
   "cell_type": "code",
   "execution_count": null,
   "metadata": {},
   "outputs": [],
   "source": [
    "x = 10\n",
    "y = 15"
   ]
  },
  {
   "cell_type": "markdown",
   "metadata": {},
   "source": [
    "Variables in Python are typless, meaning we do not need to declare what type of value it will be containing before we store something in it. In contrast to this, in Java, we must explicitly specify a variable as a string if we want to store a word in it.\n",
    "\n",
    "So how do we use variables in Python? Lets take a look at the example below:"
   ]
  },
  {
   "cell_type": "code",
   "execution_count": null,
   "metadata": {},
   "outputs": [],
   "source": [
    "x = 10\n",
    "y = 15\n",
    "\n",
    "print(x + y)"
   ]
  },
  {
   "cell_type": "markdown",
   "metadata": {},
   "source": [
    "Notice here how, we did the exact same thing as when we added 4 and 4, but now instead of writing a number we wrote the variable name?\n",
    "\n",
    "In the computers eyes, its the exact same thing as writing 10 + 15.\n",
    "\n",
    "Now lets combine this with the print statement:"
   ]
  },
  {
   "cell_type": "code",
   "execution_count": null,
   "metadata": {},
   "outputs": [],
   "source": [
    "x = 10\n",
    "y = 15\n",
    "\n",
    "total = x + y\n",
    "\n",
    "print(total)"
   ]
  },
  {
   "cell_type": "markdown",
   "metadata": {},
   "source": [
    "Its important to note that performing calculations are not strictly limited to within the print statement. Most of the time in the real world new variables are created (in this case total) to house calculation results and then used for new calculations or to output to the user/ console.\n",
    "\n",
    "## 🙋 Challenge 2\n",
    "\n",
    "What reasons do programmers use variables? Why are they important?\n",
    "\n",
    "Try it for yourself:\n",
    "\n",
    "Given the equation V = U + aT, work out a bee's final valocity (V) when it starts from rest (U), accelerates at 12 ms<sup>-2</sup> (a)  and flys for 6.5 seconds (T).\n",
    "\n",
    "Hint, to multiple in python use the symbol *"
   ]
  },
  {
   "cell_type": "code",
   "execution_count": null,
   "metadata": {},
   "outputs": [],
   "source": [
    "U = \n",
    "a = \n",
    "T = \n",
    "\n",
    "print(V)"
   ]
  },
  {
   "cell_type": "markdown",
   "metadata": {},
   "source": [
    "# 📐 Section 3\n",
    "\n",
    "In this section we will be looking at the following:\n",
    "    - if/else statements\n",
    "    - true and false\n",
    "    \n",
    "In most common programming languages, there exists a variable type that only holds two values, true and false. This varible type is called a Boolean, bool for short.\n",
    "\n",
    "If and elif (elif standing for else if) are logical operations we can write within code to check conditions of certain variables, states or functions, so we know how the program is running.\n",
    "\n",
    "If and elif work by providing a variable and assumption about that variable, for example, == 10, meaning equals to 10. If the condition is met, the code belonging to the check will execute, if the condition is not met, the code belonging to the check will not run.\n",
    "\n",
    "Lets take a look at the example:"
   ]
  },
  {
   "cell_type": "code",
   "execution_count": null,
   "metadata": {},
   "outputs": [],
   "source": [
    "# Declare new variable\n",
    "x = 10\n",
    "\n",
    "if(x == 10):\n",
    "    print(\"X is equal to 10\")\n",
    "    \n",
    "else:\n",
    "    print(\"X is not equal to 10\")"
   ]
  },
  {
   "cell_type": "markdown",
   "metadata": {},
   "source": [
    "What happens when you change the value of x?\n",
    "\n",
    "In the below example, we will look at other checks that can be performed:"
   ]
  },
  {
   "cell_type": "code",
   "execution_count": 2,
   "metadata": {},
   "outputs": [
    {
     "name": "stdout",
     "output_type": "stream",
     "text": [
      "X is bigger than 5 and less than 20\n"
     ]
    }
   ],
   "source": [
    "# Declare new variable\n",
    "x = 10\n",
    "\n",
    "if(x > 5 and x < 20):\n",
    "    print(\"X is bigger than 5 but less than 20\")\n",
    "    \n",
    "else:\n",
    "    print(\"X is some other number\")"
   ]
  },
  {
   "cell_type": "markdown",
   "metadata": {},
   "source": [
    "## 🙋 Challenge 3\n",
    "\n",
    "Using the examples above, write your own if statements to check and comment on the speed of a bee. For example, if the bee is travelling at max speed, make the output say so; if the bee is not moving at all then have the output call the bee lazy."
   ]
  },
  {
   "cell_type": "code",
   "execution_count": null,
   "metadata": {},
   "outputs": [],
   "source": [
    "bee_v = \n",
    "\n"
   ]
  },
  {
   "cell_type": "markdown",
   "metadata": {},
   "source": [
    "# 📐 Section 4\n",
    "\n",
    "In this section we will be covering the following:\n",
    "    - For loops\n",
    "    - Lists\n",
    "    \n",
    "A for-loop is a section of code that will run the code associated to it X number of times, where X is set by the programmer, or is a variable.\n",
    "\n",
    "For loops are used to repeat a section of code X number of times, usually to populate a database/ file, generate randomw numbers or to check varialbes in bulk.\n",
    "\n",
    "Take a look at the code below and give it a run to see how it works.\n"
   ]
  },
  {
   "cell_type": "code",
   "execution_count": 3,
   "metadata": {
    "scrolled": true
   },
   "outputs": [
    {
     "name": "stdout",
     "output_type": "stream",
     "text": [
      "0\n",
      "1\n",
      "2\n",
      "3\n",
      "4\n",
      "5\n",
      "6\n",
      "7\n",
      "8\n",
      "9\n"
     ]
    }
   ],
   "source": [
    "x = 10\n",
    "\n",
    "for i in range(x):\n",
    "    \n",
    "    print(i)"
   ]
  },
  {
   "cell_type": "markdown",
   "metadata": {},
   "source": [
    "What do you notice about how it works? Also what do you notice about the first number?\n",
    "\n",
    "Now lets cover lists.\n",
    "\n",
    "Lists in Python are essentially collections of data, much like a shopping list you would take to the store. Lists provide an easy way to store multiple values in one place.\n",
    "\n",
    "Lets take a look at an example below:"
   ]
  },
  {
   "cell_type": "code",
   "execution_count": 1,
   "metadata": {},
   "outputs": [
    {
     "name": "stdout",
     "output_type": "stream",
     "text": [
      "Bee\n"
     ]
    }
   ],
   "source": [
    "my_list = [\"Bee\", \"Hive\", \"Honey\", \"Pollen\"]\n",
    "\n",
    "print(my_list[0])"
   ]
  },
  {
   "cell_type": "markdown",
   "metadata": {},
   "source": [
    "Notice how the values stored within this list are words, and to access each word we used whats called an index. To specify the index of an array we use the square brackets [] with a number inside.\n",
    "\n",
    "Lets look at another example:"
   ]
  },
  {
   "cell_type": "code",
   "execution_count": 2,
   "metadata": {},
   "outputs": [
    {
     "name": "stdout",
     "output_type": "stream",
     "text": [
      "Bee\n",
      "Hive\n",
      "Honey\n",
      "Pollen\n"
     ]
    }
   ],
   "source": [
    "my_list = [\"Bee\", \"Hive\", \"Honey\", \"Pollen\"]\n",
    "\n",
    "for word in my_list:\n",
    "    \n",
    "    print word"
   ]
  },
  {
   "cell_type": "markdown",
   "metadata": {},
   "source": [
    "Notice here how we have combined the for loop with the list functionality to print all the words contained to the screen.\n",
    "\n",
    "In the below eaxmple we will be listing numbers using the for loop:"
   ]
  },
  {
   "cell_type": "code",
   "execution_count": 4,
   "metadata": {},
   "outputs": [
    {
     "name": "stdout",
     "output_type": "stream",
     "text": [
      "0\n",
      "1\n",
      "2\n",
      "3\n",
      "4\n",
      "5\n",
      "6\n",
      "7\n",
      "8\n",
      "9\n"
     ]
    }
   ],
   "source": [
    "# second for loop\n",
    "for i in range (10):\n",
    "    print i"
   ]
  },
  {
   "cell_type": "markdown",
   "metadata": {},
   "source": [
    "## 🙋 Challenge 4:\n",
    "\n",
    "Write out a for loop that counts through the numbers from 1 to 100, but only print out the numbers that are even."
   ]
  },
  {
   "cell_type": "code",
   "execution_count": null,
   "metadata": {},
   "outputs": [],
   "source": []
  },
  {
   "cell_type": "markdown",
   "metadata": {},
   "source": [
    "# 📐 Section 5\n",
    "\n",
    "In this final section we will be covering function and what they are used for.\n",
    "\n",
    "A function in Python, or any other language for that matter, is generally a set of code that can be used multiple times for a specific purpose. For example, adding two numbers together.\n",
    "\n",
    "Lets take a look at an example:"
   ]
  },
  {
   "cell_type": "code",
   "execution_count": 2,
   "metadata": {},
   "outputs": [
    {
     "name": "stdout",
     "output_type": "stream",
     "text": [
      "20\n"
     ]
    }
   ],
   "source": [
    "def add(x, y):\n",
    "    \n",
    "    return x + y\n",
    "\n",
    "total = add(10, 10)\n",
    "\n",
    "print(total)"
   ]
  },
  {
   "cell_type": "markdown",
   "metadata": {},
   "source": [
    "In this example, we create a new function called *add*. This function takes 2 inputs, x and y, will add them together and return the total. \n",
    "\n",
    "Returning the value means the value will be given back to the rest of the program. This is because variables created inside a function are *invisible* to the rest of the program, in the programs eyes, these new variables do not exist. So by returning the variables, we allow them to exist.\n",
    "\n",
    "Lets now take a look at another example:"
   ]
  },
  {
   "cell_type": "code",
   "execution_count": 1,
   "metadata": {},
   "outputs": [
    {
     "name": "stdout",
     "output_type": "stream",
     "text": [
      "0\n",
      "1\n",
      "2\n",
      "3\n",
      "4\n",
      "5\n",
      "6\n",
      "7\n",
      "8\n",
      "9\n"
     ]
    }
   ],
   "source": [
    "def count(x):\n",
    "    \n",
    "    for i in range(x):\n",
    "        \n",
    "        print(i)\n",
    "        \n",
    "count(10)"
   ]
  },
  {
   "cell_type": "markdown",
   "metadata": {},
   "source": [
    "## 🙋 Challenge 5:\n",
    "\n",
    "Using a function, use a for loop that counts through the numbers from 1 to 100. Numbers 0-50 should only be printed to the screen if they are *even*, numbers 51-100 should only be printed to the screen if they are *odd*."
   ]
  },
  {
   "cell_type": "code",
   "execution_count": null,
   "metadata": {},
   "outputs": [],
   "source": [
    "## Type new code here."
   ]
  }
 ],
 "metadata": {
  "kernelspec": {
   "display_name": "Python 2",
   "language": "python",
   "name": "python2"
  },
  "language_info": {
   "codemirror_mode": {
    "name": "ipython",
    "version": 2
   },
   "file_extension": ".py",
   "mimetype": "text/x-python",
   "name": "python",
   "nbconvert_exporter": "python",
   "pygments_lexer": "ipython2",
   "version": "2.7.14"
  }
 },
 "nbformat": 4,
 "nbformat_minor": 2
}
